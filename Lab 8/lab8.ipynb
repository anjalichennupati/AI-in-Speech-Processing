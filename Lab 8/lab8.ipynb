{
 "cells": [
  {
   "cell_type": "code",
   "execution_count": 6,
   "metadata": {},
   "outputs": [
    {
     "data": {
      "image/png": "[encoded data removed]",
      "text/plain": [
       "<Figure size 1000x400 with 1 Axes>"
      ]
     },
     "metadata": {},
     "output_type": "display_data"
    }
   ],
   "source": [
    "# AIE21011\n",
    "# A1\n",
    "import librosa\n",
    "import IPython.display as ipd\n",
    "import numpy as np\n",
    "import matplotlib.pyplot as plt\n",
    "\n",
    "# Load the audio signal\n",
    "audio_signal = r'E:\\3rd Year\\6th Sem\\AI in Speech Processing\\Labs\\Lab 6\\vowels\\a.wav'\n",
    "y, sr = librosa.load(audio_signal)\n",
    "\n",
    "# Plot the waveform using matplotlib.pyplot\n",
    "plt.figure(figsize=(10, 4))\n",
    "plt.plot(np.linspace(0, len(y) / sr, len(y)), y)\n",
    "plt.xlabel('Time (s)')\n",
    "plt.ylabel('Amplitude')\n",
    "plt.title('Waveform')\n",
    "plt.show()\n"
   ]
  },
  {
   "cell_type": "code",
   "execution_count": 7,
   "metadata": {},
   "outputs": [
    {
     "name": "stderr",
     "output_type": "stream",
     "text": [
      "d:\\Python\\Lib\\site-packages\\keras\\src\\layers\\core\\wrapper.py:27: UserWarning: Do not pass an `input_shape`/`input_dim` argument to a layer. When using Sequential models, prefer using an `Input(shape)` object as the first layer in the model instead.\n",
      "  super().__init__(**kwargs)\n"
     ]
    },
    {
     "data": {
      "text/html": [
       "<pre style=\"white-space:pre;overflow-x:auto;line-height:normal;font-family:Menlo,'DejaVu Sans Mono',consolas,'Courier New',monospace\"><span style=\"font-weight: bold\">Model: \"sequential\"</span>\n",
       "</pre>\n"
      ],
      "text/plain": [
       "\u001b[1mModel: \"sequential\"\u001b[0m\n"
      ]
     },
     "metadata": {},
     "output_type": "display_data"
    },
    {
     "data": {
      "text/html": [
       "<pre style=\"white-space:pre;overflow-x:auto;line-height:normal;font-family:Menlo,'DejaVu Sans Mono',consolas,'Courier New',monospace\">┏━━━━━━━━━━━━━━━━━━━━━━━━━━━━━━━━━┳━━━━━━━━━━━━━━━━━━━━━━━━┳━━━━━━━━━━━━━━━┓\n",
       "┃<span style=\"font-weight: bold\"> Layer (type)                    </span>┃<span style=\"font-weight: bold\"> Output Shape           </span>┃<span style=\"font-weight: bold\">       Param # </span>┃\n",
       "┡━━━━━━━━━━━━━━━━━━━━━━━━━━━━━━━━━╇━━━━━━━━━━━━━━━━━━━━━━━━╇━━━━━━━━━━━━━━━┩\n",
       "│ bidirectional (<span style=\"color: #0087ff; text-decoration-color: #0087ff\">Bidirectional</span>)   │ (<span style=\"color: #00d7ff; text-decoration-color: #00d7ff\">None</span>, <span style=\"color: #00af00; text-decoration-color: #00af00\">13</span>, <span style=\"color: #00af00; text-decoration-color: #00af00\">256</span>)        │       <span style=\"color: #00af00; text-decoration-color: #00af00\">133,120</span> │\n",
       "├─────────────────────────────────┼────────────────────────┼───────────────┤\n",
       "│ time_distributed                │ (<span style=\"color: #00d7ff; text-decoration-color: #00d7ff\">None</span>, <span style=\"color: #00af00; text-decoration-color: #00af00\">13</span>, <span style=\"color: #00af00; text-decoration-color: #00af00\">64</span>)         │        <span style=\"color: #00af00; text-decoration-color: #00af00\">16,448</span> │\n",
       "│ (<span style=\"color: #0087ff; text-decoration-color: #0087ff\">TimeDistributed</span>)               │                        │               │\n",
       "├─────────────────────────────────┼────────────────────────┼───────────────┤\n",
       "│ dropout (<span style=\"color: #0087ff; text-decoration-color: #0087ff\">Dropout</span>)               │ (<span style=\"color: #00d7ff; text-decoration-color: #00d7ff\">None</span>, <span style=\"color: #00af00; text-decoration-color: #00af00\">13</span>, <span style=\"color: #00af00; text-decoration-color: #00af00\">64</span>)         │             <span style=\"color: #00af00; text-decoration-color: #00af00\">0</span> │\n",
       "├─────────────────────────────────┼────────────────────────┼───────────────┤\n",
       "│ bidirectional_1 (<span style=\"color: #0087ff; text-decoration-color: #0087ff\">Bidirectional</span>) │ (<span style=\"color: #00d7ff; text-decoration-color: #00d7ff\">None</span>, <span style=\"color: #00af00; text-decoration-color: #00af00\">13</span>, <span style=\"color: #00af00; text-decoration-color: #00af00\">128</span>)        │        <span style=\"color: #00af00; text-decoration-color: #00af00\">66,048</span> │\n",
       "├─────────────────────────────────┼────────────────────────┼───────────────┤\n",
       "│ time_distributed_1              │ (<span style=\"color: #00d7ff; text-decoration-color: #00d7ff\">None</span>, <span style=\"color: #00af00; text-decoration-color: #00af00\">13</span>, <span style=\"color: #00af00; text-decoration-color: #00af00\">10</span>)         │         <span style=\"color: #00af00; text-decoration-color: #00af00\">1,290</span> │\n",
       "│ (<span style=\"color: #0087ff; text-decoration-color: #0087ff\">TimeDistributed</span>)               │                        │               │\n",
       "└─────────────────────────────────┴────────────────────────┴───────────────┘\n",
       "</pre>\n"
      ],
      "text/plain": [
       "┏━━━━━━━━━━━━━━━━━━━━━━━━━━━━━━━━━┳━━━━━━━━━━━━━━━━━━━━━━━━┳━━━━━━━━━━━━━━━┓\n",
       "┃\u001b[1m \u001b[0m\u001b[1mLayer (type)                   \u001b[0m\u001b[1m \u001b[0m┃\u001b[1m \u001b[0m\u001b[1mOutput Shape          \u001b[0m\u001b[1m \u001b[0m┃\u001b[1m \u001b[0m\u001b[1m      Param #\u001b[0m\u001b[1m \u001b[0m┃\n",
       "┡━━━━━━━━━━━━━━━━━━━━━━━━━━━━━━━━━╇━━━━━━━━━━━━━━━━━━━━━━━━╇━━━━━━━━━━━━━━━┩\n",
       "│ bidirectional (\u001b[38;5;33mBidirectional\u001b[0m)   │ (\u001b[38;5;45mNone\u001b[0m, \u001b[38;5;34m13\u001b[0m, \u001b[38;5;34m256\u001b[0m)        │       \u001b[38;5;34m133,120\u001b[0m │\n",
       "├─────────────────────────────────┼────────────────────────┼───────────────┤\n",
       "│ time_distributed                │ (\u001b[38;5;45mNone\u001b[0m, \u001b[38;5;34m13\u001b[0m, \u001b[38;5;34m64\u001b[0m)         │        \u001b[38;5;34m16,448\u001b[0m │\n",
       "│ (\u001b[38;5;33mTimeDistributed\u001b[0m)               │                        │               │\n",
       "├─────────────────────────────────┼────────────────────────┼───────────────┤\n",
       "│ dropout (\u001b[38;5;33mDropout\u001b[0m)               │ (\u001b[38;5;45mNone\u001b[0m, \u001b[38;5;34m13\u001b[0m, \u001b[38;5;34m64\u001b[0m)         │             \u001b[38;5;34m0\u001b[0m │\n",
       "├─────────────────────────────────┼────────────────────────┼───────────────┤\n",
       "│ bidirectional_1 (\u001b[38;5;33mBidirectional\u001b[0m) │ (\u001b[38;5;45mNone\u001b[0m, \u001b[38;5;34m13\u001b[0m, \u001b[38;5;34m128\u001b[0m)        │        \u001b[38;5;34m66,048\u001b[0m │\n",
       "├─────────────────────────────────┼────────────────────────┼───────────────┤\n",
       "│ time_distributed_1              │ (\u001b[38;5;45mNone\u001b[0m, \u001b[38;5;34m13\u001b[0m, \u001b[38;5;34m10\u001b[0m)         │         \u001b[38;5;34m1,290\u001b[0m │\n",
       "│ (\u001b[38;5;33mTimeDistributed\u001b[0m)               │                        │               │\n",
       "└─────────────────────────────────┴────────────────────────┴───────────────┘\n"
      ]
     },
     "metadata": {},
     "output_type": "display_data"
    },
    {
     "data": {
      "text/html": [
       "<pre style=\"white-space:pre;overflow-x:auto;line-height:normal;font-family:Menlo,'DejaVu Sans Mono',consolas,'Courier New',monospace\"><span style=\"font-weight: bold\"> Total params: </span><span style=\"color: #00af00; text-decoration-color: #00af00\">216,906</span> (847.29 KB)\n",
       "</pre>\n"
      ],
      "text/plain": [
       "\u001b[1m Total params: \u001b[0m\u001b[38;5;34m216,906\u001b[0m (847.29 KB)\n"
      ]
     },
     "metadata": {},
     "output_type": "display_data"
    },
    {
     "data": {
      "text/html": [
       "<pre style=\"white-space:pre;overflow-x:auto;line-height:normal;font-family:Menlo,'DejaVu Sans Mono',consolas,'Courier New',monospace\"><span style=\"font-weight: bold\"> Trainable params: </span><span style=\"color: #00af00; text-decoration-color: #00af00\">216,906</span> (847.29 KB)\n",
       "</pre>\n"
      ],
      "text/plain": [
       "\u001b[1m Trainable params: \u001b[0m\u001b[38;5;34m216,906\u001b[0m (847.29 KB)\n"
      ]
     },
     "metadata": {},
     "output_type": "display_data"
    },
    {
     "data": {
      "text/html": [
       "<pre style=\"white-space:pre;overflow-x:auto;line-height:normal;font-family:Menlo,'DejaVu Sans Mono',consolas,'Courier New',monospace\"><span style=\"font-weight: bold\"> Non-trainable params: </span><span style=\"color: #00af00; text-decoration-color: #00af00\">0</span> (0.00 B)\n",
       "</pre>\n"
      ],
      "text/plain": [
       "\u001b[1m Non-trainable params: \u001b[0m\u001b[38;5;34m0\u001b[0m (0.00 B)\n"
      ]
     },
     "metadata": {},
     "output_type": "display_data"
    }
   ],
   "source": [
    "import numpy as np\n",
    "import librosa\n",
    "import librosa.display\n",
    "from tensorflow.keras.models import Sequential\n",
    "from tensorflow.keras.layers import LSTM, Bidirectional, Dense, TimeDistributed, Dropout\n",
    "\n",
    "\n",
    "# Preprocessing\n",
    "# Short-Time Fourier Transform (STFT)\n",
    "D = np.abs(librosa.stft(y))\n",
    "\n",
    "# Mel-Frequency Cepstral Coefficients (MFCC)\n",
    "mfccs = librosa.feature.mfcc(y=y, sr=sr, n_mfcc=13)\n",
    "\n",
    "# Linear Predictive Coding (LPC)\n",
    "# You may need to use a different library for LPC extraction, as librosa doesn't provide direct support\n",
    "# Alternatively, you can skip LPC for now if it's not crucial for your speech recognition task\n",
    "\n",
    "# Prepare input data for the LSTM model\n",
    "X = mfccs.T  # Transpose the MFCC matrix to match the shape expected by the LSTM model\n",
    "X = X.reshape(X.shape[0], X.shape[1], 1)  # Add channel dimension\n",
    "\n",
    "# Define LSTM model\n",
    "num_classes = 10  # Replace with the actual number of classes in your dataset\n",
    "model = Sequential([\n",
    "    Bidirectional(LSTM(units=128, return_sequences=True), input_shape=(X.shape[1], 1)),\n",
    "    TimeDistributed(Dense(units=64, activation='relu')),\n",
    "    Dropout(0.2),\n",
    "    Bidirectional(LSTM(units=64, return_sequences=True)),\n",
    "    TimeDistributed(Dense(units=num_classes, activation='softmax'))\n",
    "])\n",
    "\n",
    "# Compile the model\n",
    "model.compile(optimizer='adam', loss='categorical_crossentropy', metrics=['accuracy'])\n",
    "\n",
    "# Display model summary\n",
    "model.summary()\n"
   ]
  },
  {
   "cell_type": "code",
   "execution_count": 9,
   "metadata": {},
   "outputs": [
    {
     "name": "stdout",
     "output_type": "stream",
     "text": [
      "Collecting SpeechRecognitionNote: you may need to restart the kernel to use updated packages.\n",
      "\n",
      "  Downloading SpeechRecognition-3.10.3-py2.py3-none-any.whl.metadata (29 kB)\n",
      "Collecting pyttsx3\n",
      "  Downloading pyttsx3-2.90-py3-none-any.whl.metadata (3.6 kB)\n",
      "Requirement already satisfied: requests>=2.26.0 in d:\\python\\lib\\site-packages (from SpeechRecognition) (2.31.0)\n",
      "Requirement already satisfied: typing-extensions in d:\\python\\lib\\site-packages (from SpeechRecognition) (4.9.0)\n",
      "Collecting comtypes (from pyttsx3)\n",
      "  Downloading comtypes-1.4.0-py3-none-any.whl.metadata (4.1 kB)\n",
      "Collecting pypiwin32 (from pyttsx3)\n",
      "  Downloading pypiwin32-223-py3-none-any.whl.metadata (236 bytes)\n",
      "Requirement already satisfied: pywin32 in c:\\users\\anjali\\appdata\\roaming\\python\\python312\\site-packages (from pyttsx3) (306)\n",
      "Requirement already satisfied: charset-normalizer<4,>=2 in d:\\python\\lib\\site-packages (from requests>=2.26.0->SpeechRecognition) (3.3.2)\n",
      "Requirement already satisfied: idna<4,>=2.5 in d:\\python\\lib\\site-packages (from requests>=2.26.0->SpeechRecognition) (3.6)\n",
      "Requirement already satisfied: urllib3<3,>=1.21.1 in d:\\python\\lib\\site-packages (from requests>=2.26.0->SpeechRecognition) (2.1.0)\n",
      "Requirement already satisfied: certifi>=2017.4.17 in d:\\python\\lib\\site-packages (from requests>=2.26.0->SpeechRecognition) (2023.11.17)\n",
      "Downloading SpeechRecognition-3.10.3-py2.py3-none-any.whl (32.8 MB)\n",
      "   ---------------------------------------- 0.0/32.8 MB ? eta -:--:--\n",
      "   ---------------------------------------- 0.4/32.8 MB 11.6 MB/s eta 0:00:03\n",
      "   -- ------------------------------------- 1.8/32.8 MB 22.7 MB/s eta 0:00:02\n",
      "   --- ------------------------------------ 3.3/32.8 MB 26.1 MB/s eta 0:00:02\n",
      "   ----- ---------------------------------- 4.5/32.8 MB 26.1 MB/s eta 0:00:02\n",
      "   ------ --------------------------------- 5.4/32.8 MB 24.8 MB/s eta 0:00:02\n",
      "   ------- -------------------------------- 6.4/32.8 MB 24.1 MB/s eta 0:00:02\n",
      "   -------- ------------------------------- 7.3/32.8 MB 23.4 MB/s eta 0:00:02\n",
      "   ---------- ----------------------------- 8.3/32.8 MB 23.0 MB/s eta 0:00:02\n",
      "   ----------- ---------------------------- 9.2/32.8 MB 22.5 MB/s eta 0:00:02\n",
      "   ------------ --------------------------- 10.3/32.8 MB 23.4 MB/s eta 0:00:01\n",
      "   ------------- -------------------------- 11.5/32.8 MB 23.4 MB/s eta 0:00:01\n",
      "   --------------- ------------------------ 12.7/32.8 MB 22.5 MB/s eta 0:00:01\n",
      "   ----------------- ---------------------- 14.0/32.8 MB 22.6 MB/s eta 0:00:01\n",
      "   ------------------ --------------------- 14.9/32.8 MB 23.4 MB/s eta 0:00:01\n",
      "   ------------------- -------------------- 15.8/32.8 MB 21.8 MB/s eta 0:00:01\n",
      "   -------------------- ------------------- 16.9/32.8 MB 22.6 MB/s eta 0:00:01\n",
      "   ---------------------- ----------------- 18.1/32.8 MB 23.4 MB/s eta 0:00:01\n",
      "   ----------------------- ---------------- 19.3/32.8 MB 25.2 MB/s eta 0:00:01\n",
      "   ------------------------- -------------- 20.6/32.8 MB 24.2 MB/s eta 0:00:01\n",
      "   -------------------------- ------------- 21.8/32.8 MB 24.2 MB/s eta 0:00:01\n",
      "   ---------------------------- ----------- 23.0/32.8 MB 25.2 MB/s eta 0:00:01\n",
      "   ----------------------------- ---------- 24.1/32.8 MB 24.2 MB/s eta 0:00:01\n",
      "   ------------------------------ --------- 25.3/32.8 MB 25.1 MB/s eta 0:00:01\n",
      "   -------------------------------- ------- 26.6/32.8 MB 26.2 MB/s eta 0:00:01\n",
      "   --------------------------------- ------ 27.9/32.8 MB 26.2 MB/s eta 0:00:01\n",
      "   ----------------------------------- ---- 28.9/32.8 MB 26.2 MB/s eta 0:00:01\n",
      "   ------------------------------------ --- 30.2/32.8 MB 26.2 MB/s eta 0:00:01\n",
      "   -------------------------------------- - 31.4/32.8 MB 26.2 MB/s eta 0:00:01\n",
      "   ---------------------------------------  32.6/32.8 MB 26.2 MB/s eta 0:00:01\n",
      "   ---------------------------------------  32.8/32.8 MB 26.2 MB/s eta 0:00:01\n",
      "   ---------------------------------------- 32.8/32.8 MB 22.6 MB/s eta 0:00:00\n",
      "Downloading pyttsx3-2.90-py3-none-any.whl (39 kB)\n",
      "Downloading comtypes-1.4.0-py3-none-any.whl (197 kB)\n",
      "   ---------------------------------------- 0.0/197.7 kB ? eta -:--:--\n",
      "   --------------------------------------- 197.7/197.7 kB 12.5 MB/s eta 0:00:00\n",
      "Downloading pypiwin32-223-py3-none-any.whl (1.7 kB)\n",
      "Installing collected packages: comtypes, pypiwin32, SpeechRecognition, pyttsx3\n",
      "Successfully installed SpeechRecognition-3.10.3 comtypes-1.4.0 pypiwin32-223 pyttsx3-2.90\n"
     ]
    }
   ],
   "source": [
    "pip install SpeechRecognition pyttsx3"
   ]
  },
  {
   "cell_type": "code",
   "execution_count": 15,
   "metadata": {},
   "outputs": [
    {
     "name": "stdout",
     "output_type": "stream",
     "text": [
      "Transcription: bhanumati weds Rajat\n",
      "Phonemes: \n",
      "Speech synthesis completed successfully.\n"
     ]
    }
   ],
   "source": [
    "import os\n",
    "import speech_recognition as sr\n",
    "import pyttsx3\n",
    "\n",
    "# Path to the audio file\n",
    "audio_file = r\"E:\\3rd Year\\6th Sem\\AI in Speech Processing\\Labs\\Lab 8\\Recording (3).wav\"\n",
    "\n",
    "# Transcribe the audio file\n",
    "recognizer = sr.Recognizer()\n",
    "with sr.AudioFile(audio_file) as source:\n",
    "    audio_data = recognizer.record(source)\n",
    "transcription = recognizer.recognize_google(audio_data)\n",
    "\n",
    "print(\"Transcription:\", transcription)  # Debugging output\n",
    "\n",
    "# Function to segment phonemes\n",
    "def segment_phonemes(transcription, target_word):\n",
    "    words = transcription.split()\n",
    "    phonemes = \"\"\n",
    "    for word in words:\n",
    "        if word.lower() == target_word.lower():\n",
    "            # Perform phoneme segmentation for the target word\n",
    "            phonemes = \"b aa r ah t\"  # Example phonemes for the word \"Bharat\"\n",
    "            break  # Exit loop after finding the target word\n",
    "    return phonemes.strip()\n",
    "\n",
    "# Segment phonemes for the word \"Bharat\"\n",
    "phonemes = segment_phonemes(transcription, \"Bharat\")\n",
    "\n",
    "print(\"Phonemes:\", phonemes)  # Debugging output\n",
    "\n",
    "# Synthesize speech for the word \"Bharat\"\n",
    "engine = pyttsx3.init()\n",
    "engine.setProperty('rate', 150)  # Adjust speech rate if needed\n",
    "engine.setProperty('volume', 0.9)  # Adjust volume if needed\n",
    "output_file = \"bharat_speech.wav\"\n",
    "engine.save_to_file(phonemes, output_file)\n",
    "engine.runAndWait()\n",
    "\n",
    "# Check if the output file is empty\n",
    "if os.path.getsize(output_file) == 0:\n",
    "    print(\"Error: The generated audio file is empty.\")\n",
    "else:\n",
    "    print(\"Speech synthesis completed successfully.\")\n"
   ]
  }
 ],
 "metadata": {
  "kernelspec": {
   "display_name": "Python 3",
   "language": "python",
   "name": "python3"
  },
  "language_info": {
   "codemirror_mode": {
    "name": "ipython",
    "version": 3
   },
   "file_extension": ".py",
   "mimetype": "text/x-python",
   "name": "python",
   "nbconvert_exporter": "python",
   "pygments_lexer": "ipython3",
   "version": "3.12.1"
  }
 },
 "nbformat": 4,
 "nbformat_minor": 2
}
